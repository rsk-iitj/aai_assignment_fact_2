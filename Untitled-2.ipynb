{
 "cells": [
  {
   "cell_type": "code",
   "execution_count": 8,
   "metadata": {},
   "outputs": [],
   "source": [
    "import numpy as np\n",
    "import matplotlib.pyplot as plt\n",
    "import pandas as pd\n",
    "import random\n",
    "import string"
   ]
  },
  {
   "cell_type": "code",
   "execution_count": 9,
   "metadata": {},
   "outputs": [
    {
     "name": "stdout",
     "output_type": "stream",
     "text": [
      "Max no of states: 5\n",
      "0.29 0.14 0.14 0.29 0.14\n",
      "0.20 0.20 0.20 0.20 0.20\n",
      "0.17 0.17 0.33 0.17 0.17\n",
      "0.00 0.17 0.17 0.17 0.50\n",
      "0.43 0.14 0.14 0.14 0.14\n"
     ]
    }
   ],
   "source": [
    "def gen_transition_matrix(transitions,n):\n",
    "    M = np.zeros((5,5))\n",
    "    \n",
    "    \n",
    "    for (i,j) in zip(transitions,transitions[1:]):\n",
    "        M[i][j] += 1\n",
    "        #print(M[i][j])\n",
    "    #now convert to probabilities:\n",
    "    for row in M:\n",
    "        s = sum(row)\n",
    "        \n",
    "        if s > 0:\n",
    "            row[:] = [f/s for f in row]\n",
    "    return M\n",
    "\n",
    "#test:\n",
    "\n",
    "t = [0,0,1,0,0,2,0,3,4,0,3,4,0,4,1,1,2,2,1,3,1,4,2,2,3,2,4,3,3,4,4,0]\n",
    "n = max(t)+1\n",
    "print(f\"Max no of states: {n}\")\n",
    "m = gen_transition_matrix(t,n)\n",
    "for row in m: print(' '.join('{0:.2f}'.format(x) for x in row))"
   ]
  },
  {
   "cell_type": "code",
   "execution_count": 10,
   "metadata": {},
   "outputs": [
    {
     "name": "stdout",
     "output_type": "stream",
     "text": [
      "['G', 'G', 'B', 'R', 'B', 'G', 'R', 'B', 'B', 'B', 'B', 'B', 'G', 'R', 'B', 'R', 'R', 'G', 'B', 'B', 'R', 'R'] \n",
      " ['R', 'R', 'B', 'G', 'B', 'G', 'R', 'B', 'G', 'B', 'B', 'B', 'G', 'B', 'R', 'G', 'G', 'G', 'G', 'R'] \n",
      " ['R', 'R', 'G', 'R', 'R', 'G', 'R', 'R', 'G', 'R', 'B', 'R', 'R', 'R', 'B', 'R', 'B', 'B', 'B', 'G', 'G', 'G', 'R', 'R', 'R'] \n",
      "['B', 'B', 'B', 'R', 'R', 'R', 'R', 'B', 'R', 'G', 'R', 'G', 'B', 'B', 'R', 'B', 'G', 'G', 'G', 'G', 'G', 'B', 'B']\n",
      "['B', 'B', 'B', 'R', 'R', 'R', 'R', 'B', 'R', 'G', 'R', 'G', 'B', 'B', 'R', 'B', 'G', 'G', 'G', 'G', 'G', 'B', 'B']\n",
      "['G', 'B', 'R', 'G', 'R', 'B', 'G', 'G', 'G', 'R', 'G', 'B', 'R', 'B', 'R', 'R', 'R', 'B', 'G', 'R', 'B', 'B', 'R', 'R', 'R', 'B', 'G', 'R']\n"
     ]
    }
   ],
   "source": [
    "\n",
    "jar_1 =[]\n",
    "jar_2 =[]\n",
    "jar_3 =[]\n",
    "jar_4 =[]\n",
    "jar_5 =[]\n",
    "# 0 = RED, 1 = Green , 2=Blue\n",
    "'''def create_jar():\n",
    "    n= random.randint(20,30)\n",
    "    jar=[]\n",
    "    for count in range(n):\n",
    "        jar.append(random.randint(0,2))\n",
    "    return jar\n",
    " '''\n",
    "  \n",
    "jar_1 = [random.choice('RGB') for _ in range(random.randint(20,30))] \n",
    "jar_2 = [random.choice('RGB') for _ in range(random.randint(20,30))]\n",
    "jar_3 =[random.choice('RGB') for _ in range(random.randint(20,30))]\n",
    "jar_4=[random.choice('RGB') for _ in range(random.randint(20,30))]\n",
    "jar_5=[random.choice('RGB') for _ in range(random.randint(20,30))]\n",
    "print(f\"{jar_1} \\n {jar_2} \\n {jar_3} \\n{jar_4}\\n{jar_4}\\n{jar_5}\")"
   ]
  },
  {
   "cell_type": "code",
   "execution_count": 11,
   "metadata": {},
   "outputs": [
    {
     "name": "stdout",
     "output_type": "stream",
     "text": [
      "Probability :  P(R) :0.3181818181818182, P(G) :0.22727272727272727 , P(B) :0.45454545454545453\n",
      "Probability :  P(R) :0.25, P(G) :0.4 , P(B) :0.35\n",
      "Probability :  P(R) :0.56, P(G) :0.24 , P(B) :0.2\n",
      "Probability :  P(R) :0.30434782608695654, P(G) :0.30434782608695654 , P(B) :0.391304347826087\n",
      "Probability :  P(R) :0.42857142857142855, P(G) :0.2857142857142857 , P(B) :0.2857142857142857\n",
      "[[0.31818182 0.22727273 0.45454545]\n",
      " [0.25       0.4        0.35      ]\n",
      " [0.56       0.24       0.2       ]\n",
      " [0.30434783 0.30434783 0.39130435]\n",
      " [0.42857143 0.28571429 0.28571429]]\n"
     ]
    }
   ],
   "source": [
    "B=np.zeros((5,3))\n",
    "#print(B)\n",
    "def count_prob(jar,i):\n",
    "   total = len(jar)\n",
    "   red= jar.count('R')\n",
    "   green= jar.count('G')\n",
    "   blue= jar.count('B')\n",
    "   probR = red/total\n",
    "   probG = green/total\n",
    "   probb =blue/total\n",
    "   B[i][0]=probR\n",
    "   B[i][1]=probG\n",
    "   B[i][2]=probb\n",
    "   print(f\"Probability :  P(R) :{probR}, P(G) :{probG} , P(B) :{probb}\")\n",
    "    \n",
    "count_prob(jar_1,0)\n",
    "count_prob(jar_2,1)\n",
    "count_prob(jar_3,2)\n",
    "count_prob(jar_4,3)\n",
    "count_prob(jar_5,4)\n",
    "print(B)"
   ]
  },
  {
   "cell_type": "code",
   "execution_count": 12,
   "metadata": {},
   "outputs": [
    {
     "name": "stdout",
     "output_type": "stream",
     "text": [
      "jar_3\n"
     ]
    }
   ],
   "source": [
    "#initial State\n",
    "states =['jar_1','jar_2','jar_3','jar_4','jar_5']\n",
    "initial_state_pi = random.choice(states)\n",
    "print(initial_state_pi)"
   ]
  },
  {
   "cell_type": "code",
   "execution_count": 13,
   "metadata": {},
   "outputs": [
    {
     "name": "stdout",
     "output_type": "stream",
     "text": [
      "[0, 2, 2, 2, 1, 0, 2, 0, 1, 1]\n"
     ]
    }
   ],
   "source": [
    "O = [random.randrange(0,3) for _ in range(10)]\n",
    "print(O)"
   ]
  },
  {
   "cell_type": "code",
   "execution_count": 14,
   "metadata": {},
   "outputs": [
    {
     "name": "stdout",
     "output_type": "stream",
     "text": [
      "PI value: [0.19, 0.09, 0.35, 0.15, 0.21]\n",
      "αT(i): [0.06045455 0.0225     0.196      0.04565217 0.09      ]\n",
      "P(O|λ):  0.41\n"
     ]
    }
   ],
   "source": [
    "#initial_= [np.random.dirichlet(np.ones(10),size=1)]\n",
    "initial_distribution =[]\n",
    "initial_ =np.random.dirichlet(np.ones(5),size=1)\n",
    "for j in range(5):\n",
    "    x=initial_[0,j]\n",
    "    initial_distribution.append(round(x, 2))\n",
    "\n",
    "print(f\"PI value: {initial_distribution}\")\n",
    "\n",
    "\n",
    "def forward(O, a, b, pi):\n",
    "    N = a.shape[0]\n",
    "    T = 10\n",
    "    alpha = np.zeros((T,N))\n",
    "\n",
    "    alpha[0, :] = pi * b[:, O[0]]\n",
    "    for i in range(N):\n",
    "         alpha[0, i] = pi[i] * b[i, O[0]]\n",
    "    for t in range(1, 10):\n",
    "        for j in range(N):\n",
    "            dot_prod = alpha[t - 1].dot(a[:, j])\n",
    "            alpha[t, j] = dot_prod * b[j, O[t]]\n",
    " \n",
    "    return alpha\n",
    "alpha = forward(O, m, B, initial_distribution)\n",
    "print(f\"αT(i): {alpha[0, :]}\")\n",
    "sumoflastrow = alpha[0, :].sum()\n",
    "print(\"P(O|λ):  {:.2f}\".format(round(sumoflastrow,2)))\n"
   ]
  }
 ],
 "metadata": {
  "kernelspec": {
   "display_name": "Python 3.10.7 64-bit",
   "language": "python",
   "name": "python3"
  },
  "language_info": {
   "codemirror_mode": {
    "name": "ipython",
    "version": 3
   },
   "file_extension": ".py",
   "mimetype": "text/x-python",
   "name": "python",
   "nbconvert_exporter": "python",
   "pygments_lexer": "ipython3",
   "version": "3.10.7"
  },
  "orig_nbformat": 4,
  "vscode": {
   "interpreter": {
    "hash": "7beeb85e8a1921af704541c06d087da6946d9b6441dbabaf09d366aed7f75d5f"
   }
  }
 },
 "nbformat": 4,
 "nbformat_minor": 2
}
